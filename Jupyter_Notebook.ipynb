{
 "cells": [
  {
   "cell_type": "markdown",
   "metadata": {},
   "source": [
    "<center>\n",
    "    <img src=\"https://cf-courses-data.s3.us.cloud-object-storage.appdomain.cloud/IBMDeveloperSkillsNetwork-DS0105EN-SkillsNetwork/labs/Module2/images/SN_web_lightmode.png\" width=\"300\" alt=\"cognitiveclass.ai logo\">\n",
    "</center>\n"
   ]
  },
  {
   "cell_type": "markdown",
   "metadata": {},
   "source": [
    "#### Add your code below following the instructions given in the course\n"
   ]
  },
  {
   "cell_type": "markdown",
   "metadata": {},
   "source": [
    "Notebook"
   ]
  },
  {
   "cell_type": "markdown",
   "metadata": {},
   "source": [
    "Jupyter_Notebook"
   ]
  },
  {
   "cell_type": "markdown",
   "metadata": {},
   "source": [
    "Introduction:\n",
    "\n",
    "Data Science is fun I acan not wait to learn more."
   ]
  },
  {
   "cell_type": "markdown",
   "metadata": {},
   "source": [
    "Here is a Data Science languages list:\n",
    "Markdown\n",
    "1.  **Python:**\n",
    "    * Dominant language in data science.\n",
    "    * Extensive libraries (Pandas, NumPy, Scikit-learn, TensorFlow, PyTorch).\n",
    "    * Large and active community.\n",
    "2.  **R:**\n",
    "    * Specifically designed for statistical computing and graphics.\n",
    "    * Rich ecosystem of packages for data analysis and visualization.\n",
    "    * Popular in academia and research.\n",
    "3.  **SQL:**\n",
    "    * Essential for querying and managing relational databases.\n",
    "    * Crucial for data extraction and manipulation.\n",
    "4.  **Julia:**\n",
    "    * Gaining popularity for its high performance.\n",
    "    * Combines the ease of use of Python with the speed of C.\n",
    "    * Suitable for numerical and scientific computing."
   ]
  },
  {
   "cell_type": "markdown",
   "metadata": {},
   "source": [
    "Data science libraries:\n",
    "* **Python Libraries:**\n",
    "    * **NumPy:**\n",
    "        * Fundamental package for numerical computing.\n",
    "        * Supports large, multi-dimensional arrays and matrices.\n",
    "    * **Pandas:**\n",
    "        * Provides data structures and tools for data analysis.\n",
    "        * DataFrames for efficient data manipulation.\n",
    "    * **Scikit-learn:**\n",
    "        * Machine learning library with various algorithms.\n",
    "        * Tools for classification, regression, clustering, and more.\n",
    "    * **TensorFlow:**\n",
    "        * Deep learning framework developed by Google.\n",
    "        * Used for building and training neural networks.\n",
    "    * **PyTorch:**\n",
    "        * Another popular deep learning framework.\n",
    "        * Dynamic computation graph and ease of use.\n",
    "    * **Matplotlib:**\n",
    "        * Library for creating static, interactive, and animated visualizations.\n",
    "    * **Seaborn:**\n",
    "        * Built on top of Matplotlib, provides a high-level interface for statistical graphics.\n",
    "    * **Plotly:**\n",
    "        * Library for creating interactive, web-based visualizations.\n",
    "    * **Statsmodels:**\n",
    "        * Provides classes and functions for statistical models.\n",
    "    * **NLTK (Natural Language Toolkit):**\n",
    "        * Library for working with human language data.\n",
    "* **R Libraries:**\n",
    "    * **dplyr:**\n",
    "        * For data manipulation and transformation.\n",
    "    * **ggplot2:**\n",
    "        * Powerful data visualization package.\n",
    "    * **caret:**\n",
    "        * Comprehensive framework for building and evaluating machine learning models.\n",
    "* **Scala Libraries:**\n",
    "    * **Apache Spark MLlib:**\n",
    "        * Scalable machine learning library.\n",
    "    * **Breeze:**\n",
    "        * Numerical processing library.\n",
    "    * **Algebird:**\n",
    "        * Abstract algebra library."
   ]
  },
  {
   "cell_type": "markdown",
   "metadata": {},
   "source": [
    "Table of Data Science Tools:\n",
    "\n",
    "| Tool          | Description                                    | Use Case                                   |\n",
    "|---------------|------------------------------------------------|--------------------------------------------|\n",
    "| Jupyter Notebook | Interactive coding, data exploration, reports | Data analysis, visualization, prototyping |\n",
    "| Pandas        | Data manipulation and analysis library        | Data cleaning, transformation, analysis   |\n",
    "| Scikit-learn  | Machine learning algorithms and tools          | Model training, evaluation, prediction    |\n",
    "| TensorFlow    | Deep learning framework                        | Neural network development, image/NLP     |\n",
    "| Tableau       | Data visualization and business intelligence  | Creating interactive dashboards, reports   |"
   ]
  },
  {
   "cell_type": "markdown",
   "metadata": {},
   "source": [
    "Introducing arithmetic expression examples:\n",
    "\n",
    "Arithmetic expressions are fundamental building blocks in mathematics and computer science, representing calculations performed on numerical values using operators like addition, subtraction, multiplication, and division."
   ]
  },
  {
   "cell_type": "code",
   "execution_count": null,
   "metadata": {},
   "outputs": [],
   "source": [
    "Multiply and add numbers:\n",
    "1+1=2 \n",
    "1*0=0 "
   ]
  },
  {
   "cell_type": "code",
   "execution_count": 2,
   "metadata": {},
   "outputs": [
    {
     "name": "stdout",
     "output_type": "stream",
     "text": [
      "120 minutes is equal to 2.0 hours\n"
     ]
    }
   ],
   "source": [
    "def minutes_to_hours(minutes):\n",
    "  \"\"\"Converts minutes to hours.\"\"\"\n",
    "  hours = minutes / 60\n",
    "  return hours\n",
    "\n",
    "minutes1 = 120\n",
    "hours1 = minutes_to_hours(minutes1)\n",
    "print(f\"{minutes1} minutes is equal to {hours1} hours\")"
   ]
  },
  {
   "cell_type": "markdown",
   "metadata": {},
   "source": [
    "Objectives:\n",
    "\n",
    "Identify the criteria and roles for determining the language to learn.\n",
    "Identify the users and benefits of Python.\n",
    "Identify the users and uses of the R language.\n",
    "Define SQL elements and list their benefits.\n",
    "Review languages such as Java, Scala, C++, JavaScript, and Julia.\n",
    "List the global communities for connecting with other users."
   ]
  },
  {
   "cell_type": "markdown",
   "metadata": {},
   "source": [
    "Author’s name:\n",
    "\n",
    "Soren Christensen"
   ]
  },
  {
   "cell_type": "markdown",
   "metadata": {},
   "source": []
  }
 ],
 "metadata": {
  "kernelspec": {
   "display_name": "Python 3 (ipykernel)",
   "language": "python",
   "name": "python3"
  },
  "language_info": {
   "codemirror_mode": {
    "name": "ipython",
    "version": 3
   },
   "file_extension": ".py",
   "mimetype": "text/x-python",
   "name": "python",
   "nbconvert_exporter": "python",
   "pygments_lexer": "ipython3",
   "version": "3.12.8"
  }
 },
 "nbformat": 4,
 "nbformat_minor": 4
}
